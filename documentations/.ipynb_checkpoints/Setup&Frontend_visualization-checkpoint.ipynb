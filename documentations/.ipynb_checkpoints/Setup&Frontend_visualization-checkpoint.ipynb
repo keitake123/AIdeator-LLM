{
 "cells": [
  {
   "cell_type": "markdown",
   "id": "4cfc1b00-133f-44d4-94af-863462afeded",
   "metadata": {},
   "source": [
    "# Supplementary doc on Setup and Front End Visualization"
   ]
  },
  {
   "cell_type": "markdown",
   "id": "7ec8f1ce-6293-475c-ac57-c31f970db1e7",
   "metadata": {},
   "source": [
    "This is supplementary file mostly for the front end visualization. Since we failed to connect that frontend and backend in time for the deadline of the project, this supplementary file hopes to give a better image of what it would look like for the users when they query each time in the backend system and how its would visually look as an application."
   ]
  },
  {
   "cell_type": "markdown",
   "id": "4087eaed-544a-4e0a-8c51-812e24fe9157",
   "metadata": {},
   "source": [
    "### Instructions to Run Frontend\n",
    "\n",
    "1. **Navigate to the Frontend Directory**  \n",
    "   Open your terminal or command line and use the following command to move into the frontend directory:\n",
    " ```       \n",
    "cd frontend"
   ]
  },
  {
   "cell_type": "markdown",
   "id": "cc879cc0-01c1-4c5e-9677-c5ef4ea15ec2",
   "metadata": {},
   "source": [
    "2. **Install Dependencies** <br/>\n",
    " After navigating to the frontend directory, install the necessary dependencies by running:\n",
    "\n",
    "```\n",
    "npm install"
   ]
  },
  {
   "cell_type": "markdown",
   "id": "917bde86-42f0-4b00-b21f-a6f32ae1bef3",
   "metadata": {},
   "source": [
    "3. **Start the Development Server** <br/>\n",
    "To start the frontend server and view the application, run:\n",
    "```\n",
    "npm start"
   ]
  },
  {
   "cell_type": "markdown",
   "id": "1359ada6-0b96-4d00-be36-ed2cde7e30f7",
   "metadata": {},
   "source": [
    "This will start the development server, and you can view the frontend by opening the appropriate URL (usually http://localhost:3000) in your browser."
   ]
  },
  {
   "cell_type": "markdown",
   "id": "cb24e08b-4518-442a-89ed-2d5ff6fc472d",
   "metadata": {},
   "source": [
    "### Instructions to Run Backend\n",
    "\n",
    "To set up and run the backend for your project, follow these steps:\n",
    "\n",
    "1. **Install Dependencies**  \n",
    "   From your project root, you need to install all the required backend dependencies listed in the `requirements.txt` file. Run the following command to install them:\n",
    "\n",
    "```\n",
    "pip install -r requirements.txt\n"
   ]
  },
  {
   "cell_type": "markdown",
   "id": "107b0c6b-4866-40a4-b24a-96ad9eda1297",
   "metadata": {},
   "source": [
    "If you need additional dependencies (like nltk or rank_bm25), which were required by your code but not listed in the requirements.txt file, you should install them separately with:\n",
    "\n",
    "```\n",
    "pip install nltk rank_bm25"
   ]
  },
  {
   "cell_type": "markdown",
   "id": "85c9632d-d072-4ae5-b57d-66a73756eab1",
   "metadata": {},
   "source": [
    "2. **Set Your OpenAI API Key** <br>\n",
    "\n",
    "You will need to set your OpenAI API key to interact with OpenAI's services. There are two ways to do this:\n",
    "\n",
    "You can set it directly in your terminal session by running:\n",
    "```\n",
    "export OPENAI_API_KEY='sk---your-key-here---'\n",
    "```\n",
    "Alternatively, you can add this line to a .env file in your project root to keep it persistent across sessions:\n",
    "```\n",
    "OPENAI_API_KEY=sk---your-key-here---"
   ]
  },
  {
   "cell_type": "markdown",
   "id": "ef6fda52-34cc-4b04-873f-e899c36d5bf6",
   "metadata": {},
   "source": [
    "3. **Run the CLI Ideation Workflow**\n",
    "\n",
    "To run the ideation graph script (for example, located in src/graphs/ideation_graph.py), use the following command (since we have not integrated the backend and frontend, we do not have fastAPI yet):\n",
    "\n",
    "```\n",
    "python3 src/graphs/ideation_graph.py\n",
    "```"
   ]
  },
  {
   "cell_type": "markdown",
   "id": "e56473c1-425e-4d85-a587-6eec6f8a0342",
   "metadata": {},
   "source": [
    "### Below is Figma File with the UI of our application"
   ]
  },
  {
   "cell_type": "code",
   "execution_count": 12,
   "id": "02e16881-7be2-4ca5-a552-96e90e03770c",
   "metadata": {},
   "outputs": [
    {
     "data": {
      "text/html": [
       "\n",
       "        <iframe\n",
       "            width=\"1000\"\n",
       "            height=\"800\"\n",
       "            src=\"https://www.figma.com/embed?embed_host=www.figma.com&url=https://www.figma.com/design/KtJAuNYALq8R7t6w93T8tO/AI-Ideation-Partner?node-id=22-2&p=f&t=SeWnPl5YGPSAElvE-0\"\n",
       "            frameborder=\"0\"\n",
       "            allowfullscreen\n",
       "            \n",
       "        ></iframe>\n",
       "        "
      ],
      "text/plain": [
       "<IPython.lib.display.IFrame at 0x7ff6dec031c0>"
      ]
     },
     "execution_count": 12,
     "metadata": {},
     "output_type": "execute_result"
    }
   ],
   "source": [
    "from IPython.display import IFrame\n",
    "\n",
    "# Embed the Figma prototype with an iframe\n",
    "IFrame(src=\"https://www.figma.com/embed?embed_host=www.figma.com&url=https://www.figma.com/design/KtJAuNYALq8R7t6w93T8tO/AI-Ideation-Partner?node-id=22-2&p=f&t=SeWnPl5YGPSAElvE-0\", width=1000, height=800)\n"
   ]
  },
  {
   "cell_type": "markdown",
   "id": "1a18d949-3328-40bf-9cfa-2d66accab84d",
   "metadata": {},
   "source": [
    "Link to Figma file if easier to navigate <br>\n",
    "https://www.figma.com/design/KtJAuNYALq8R7t6w93T8tO/AI-Ideation-Partner?node-id=22-2"
   ]
  },
  {
   "cell_type": "markdown",
   "id": "e017d4ca-1090-454a-b80a-2c8d5c954c9f",
   "metadata": {},
   "source": [
    "The structure is designed to align with the backend workflow, which can be further understood by reviewing the accompanying documentation and product flow. The process begins with inputting the target audience and the problem, followed by clicking the \"Generate\" button. This will create multiple nodes based on the provided problem. Users can select a node they find relevant, which will then generate five new, more specific nodes related to their selection.\n",
    "\n",
    "The interface offers five interactive actions—add, merge, edit, delete, and search for existing problems—accessible through hover icons on each node. We opted for a minimalist Figma iteration to ensure the interface remains user-friendly, allowing users to engage with the tool without feeling overwhelmed by unnecessary complexity.\n"
   ]
  },
  {
   "cell_type": "markdown",
   "id": "a6776d56-bdd9-44a9-8a34-35a709fef9f7",
   "metadata": {},
   "source": [
    "# Frontend Coding so Far"
   ]
  },
  {
   "cell_type": "markdown",
   "id": "218d09f3-3a23-48a8-a2ce-f82059dbcc80",
   "metadata": {},
   "source": [
    "![](Frontend1.png)\n",
    "![](Frontend2.png)\n",
    "![](Frontend3.png)"
   ]
  }
 ],
 "metadata": {
  "kernelspec": {
   "display_name": "Python 3 (ipykernel)",
   "language": "python",
   "name": "python3"
  },
  "language_info": {
   "codemirror_mode": {
    "name": "ipython",
    "version": 3
   },
   "file_extension": ".py",
   "mimetype": "text/x-python",
   "name": "python",
   "nbconvert_exporter": "python",
   "pygments_lexer": "ipython3",
   "version": "3.10.12"
  }
 },
 "nbformat": 4,
 "nbformat_minor": 5
}
